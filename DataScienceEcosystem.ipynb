{
  "metadata": {
    "kernelspec": {
      "name": "python",
      "display_name": "Python (Pyodide)",
      "language": "python"
    },
    "language_info": {
      "codemirror_mode": {
        "name": "python",
        "version": 3
      },
      "file_extension": ".py",
      "mimetype": "text/x-python",
      "name": "python",
      "nbconvert_exporter": "python",
      "pygments_lexer": "ipython3",
      "version": "3.8"
    }
  },
  "nbformat_minor": 5,
  "nbformat": 4,
  "cells": [
    {
      "id": "4103516e-2e5d-4758-a4b3-e8ce7b994a10",
      "cell_type": "markdown",
      "source": "# Data Science Tools and Ecosystem",
      "metadata": {}
    },
    {
      "id": "cea266e0-a5a2-4f38-9e63-250225a7a23f",
      "cell_type": "markdown",
      "source": "In this notebook, Data Science Tools and Ecosystem are summarized.",
      "metadata": {}
    },
    {
      "id": "12b50e47-9eb3-4c57-8f0f-638a2ae27245",
      "cell_type": "markdown",
      "source": "**Objectifs :**  \n\n- Lister les langages populaires pour la science des données.  \n- Présenter les bibliothèques couramment utilisées en science des données.  \n- Décrire les outils open source d’environnement de développement.  \n- Fournir des exemples d’évaluation d'expressions arithmétiques en Python.  \n- Apprendre à utiliser les cellules Markdown dans un notebook Jupyter.  ",
      "metadata": {}
    },
    {
      "id": "8164918f-ae04-4eac-add5-319004431581",
      "cell_type": "markdown",
      "source": "## Auteur  \n\nMahougnon Fredy Houndayi \n",
      "metadata": {}
    },
    {
      "id": "502ebd25-147e-4e0b-9318-e8864cfae687",
      "cell_type": "markdown",
      "source": "Certains des langages populaires que les scientifiques des données utilisent sont :\n1. Python  \n2. R  \n3. SQL  \n4. Julia  \n5. Scala  ",
      "metadata": {}
    },
    {
      "id": "68525356-22ab-4361-95fa-f7692606509b",
      "cell_type": "markdown",
      "source": "Certaines des bibliothèques couramment utilisées par les scientifiques des données incluent :\n\n1. NumPy  \n2. Pandas  \n3. Scikit-learn  \n4. TensorFlow  \n5. Matplotlib  \n",
      "metadata": {}
    },
    {
      "id": "7c17e65d-b8da-4126-86e7-c2ead0912013",
      "cell_type": "markdown",
      "source": "| Outils de la science des données |\n|----------------------------------|\n| Jupyter Notebook                 |\n| RStudio                           |\n| Apache Zeppelin                   |\n",
      "metadata": {}
    },
    {
      "id": "2325de02-a40c-44c5-b0d1-dceca0923095",
      "cell_type": "markdown",
      "source": "### Voici quelques exemples d'évaluation d'expressions arithmétiques en Python",
      "metadata": {}
    },
    {
      "id": "c0a90116-0d95-4c9f-903e-1ad3011fec8e",
      "cell_type": "code",
      "source": "(3*4)+5  #Ceci est une simple expression arithmétique pour multiplier puis additionner des entiers",
      "metadata": {
        "trusted": true
      },
      "outputs": [
        {
          "execution_count": 7,
          "output_type": "execute_result",
          "data": {
            "text/plain": "17"
          },
          "metadata": {}
        }
      ],
      "execution_count": 7
    },
    {
      "id": "5a6eaed5-ed57-47e0-845b-f2a70bda982b",
      "cell_type": "code",
      "source": "200*60 #Cela convertira 200 minutes en heures en divisant par 60",
      "metadata": {
        "trusted": true
      },
      "outputs": [
        {
          "execution_count": 8,
          "output_type": "execute_result",
          "data": {
            "text/plain": "12000"
          },
          "metadata": {}
        }
      ],
      "execution_count": 8
    }
  ]
}